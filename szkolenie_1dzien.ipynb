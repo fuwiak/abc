{
 "nbformat": 4,
 "nbformat_minor": 0,
 "metadata": {
  "colab": {
   "provenance": []
  },
  "kernelspec": {
   "name": "python3",
   "display_name": "Python 3"
  },
  "language_info": {
   "name": "python"
  }
 },
 "cells": [
  {
   "cell_type": "code",
   "execution_count": null,
   "metadata": {
    "colab": {
     "base_uri": "https://localhost:8080/"
    },
    "id": "Oo8d-1LCmb9r",
    "outputId": "2e61799d-be79-442d-9d2d-3ae3736f55f1",
    "pycharm": {
     "is_executing": true
    }
   },
   "outputs": [],
   "source": [
    "2+6"
   ]
  },
  {
   "cell_type": "code",
   "source": [],
   "metadata": {
    "id": "4TaVU1_8mvl1"
   },
   "execution_count": null,
   "outputs": []
  },
  {
   "cell_type": "code",
   "source": [
    "print(\"hello world\")"
   ],
   "metadata": {
    "colab": {
     "base_uri": "https://localhost:8080/"
    },
    "id": "udhfLNMPm1hi",
    "outputId": "dd121e64-7bd4-4ac6-b7b8-56cc2113a405"
   },
   "execution_count": 2,
   "outputs": [
    {
     "output_type": "stream",
     "name": "stdout",
     "text": [
      "hello world\n"
     ]
    }
   ]
  },
  {
   "cell_type": "markdown",
   "source": [
    "# napis"
   ],
   "metadata": {
    "id": "p9o1ZCiZnV9V"
   }
  },
  {
   "cell_type": "markdown",
   "source": [
    "### Napis"
   ],
   "metadata": {
    "id": "rmY3QN-DnaMC"
   }
  },
  {
   "cell_type": "markdown",
   "source": [
    "**Tekst123**"
   ],
   "metadata": {
    "id": "rDrGqgjCnc9z"
   }
  },
  {
   "cell_type": "markdown",
   "source": [
    "\n",
    "\n",
    "1.   List item\n",
    "2.   List item\n",
    "\n"
   ],
   "metadata": {
    "id": "-YQ1rpY5ngiu"
   }
  },
  {
   "cell_type": "code",
   "source": [],
   "metadata": {
    "id": "z4b5sWUdnZZy"
   },
   "execution_count": null,
   "outputs": []
  }
 ]
}
